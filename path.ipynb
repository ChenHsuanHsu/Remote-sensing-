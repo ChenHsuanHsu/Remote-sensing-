{
 "cells": [
  {
   "cell_type": "code",
   "execution_count": 1,
   "metadata": {},
   "outputs": [],
   "source": [
    "import xarray as xr\n",
    "import matplotlib.pyplot as plt\n",
    "import cartopy.crs as ccrs\n",
    "import cartopy.feature as cfeature\n",
    "import numpy as np\n",
    "import os\n",
    "\n",
    "# 設置文件夾保存圖像\n",
    "output_folder = \"trace_images\"\n",
    "os.makedirs(output_folder, exist_ok=True)"
   ]
  },
  {
   "cell_type": "code",
   "execution_count": 2,
   "metadata": {},
   "outputs": [],
   "source": [
    "# 設定範圍和條件\n",
    "import glob\n",
    "\n",
    "# 將日期定義為變量\n",
    "date = \"201010\"\n",
    "dtype = \"test_data\"\n",
    "start_date = \"2010-10-22\"\n",
    "end_date = \"2010-10-31\"\n",
    "\n",
    "# 經緯度設定\n",
    "extent = [108, 124, 10, 25]\n",
    "\n",
    "# 讀取數據文件並分類為白天和夜晚\n",
    "day_files = glob.glob(f\"{dtype}/{date}*day*.nc\")   # 選擇白天的文件\n",
    "night_files = glob.glob(f\"{dtype}/{date}*night*.nc\") # 選擇夜晚的文件\n"
   ]
  },
  {
   "cell_type": "code",
   "execution_count": 3,
   "metadata": {},
   "outputs": [
    {
     "data": {
      "text/plain": [
       "['test_data/20101017141119-NCEI-L3C_GHRSST-SSTskin-AVHRR_Pathfinder-PFV5.3_NOAA18_G_2010290_day-v02.0-fv01.0.nc',\n",
       " 'test_data/20101018140028-NCEI-L3C_GHRSST-SSTskin-AVHRR_Pathfinder-PFV5.3_NOAA18_G_2010291_day-v02.0-fv01.0.nc',\n",
       " 'test_data/20101020230220-NCEI-L3C_GHRSST-SSTskin-AVHRR_Pathfinder-PFV5.3_NOAA18_G_2010293_day-v02.0-fv01.0.nc',\n",
       " 'test_data/20101031140920-NCEI-L3C_GHRSST-SSTskin-AVHRR_Pathfinder-PFV5.3_NOAA18_G_2010304_day-v02.0-fv01.0.nc',\n",
       " 'test_data/20101024134308-NCEI-L3C_GHRSST-SSTskin-AVHRR_Pathfinder-PFV5.3_NOAA18_G_2010297_day-v02.0-fv01.0.nc',\n",
       " 'test_data/20101016142214-NCEI-L3C_GHRSST-SSTskin-AVHRR_Pathfinder-PFV5.3_NOAA18_G_2010289_day-v02.0-fv01.0.nc',\n",
       " 'test_data/20101029144628-NCEI-L3C_GHRSST-SSTskin-AVHRR_Pathfinder-PFV5.3_NOAA18_G_2010302_day-v02.0-fv01.0.nc',\n",
       " 'test_data/20101030225600-NCEI-L3C_GHRSST-SSTskin-AVHRR_Pathfinder-PFV5.3_NOAA18_G_2010303_day-v02.0-fv01.0.nc',\n",
       " 'test_data/20101027140458-NCEI-L3C_GHRSST-SSTskin-AVHRR_Pathfinder-PFV5.3_NOAA18_G_2010300_day-v02.0-fv01.0.nc',\n",
       " 'test_data/20101023135357-NCEI-L3C_GHRSST-SSTskin-AVHRR_Pathfinder-PFV5.3_NOAA18_G_2010296_day-v02.0-fv01.0.nc',\n",
       " 'test_data/20101028135406-NCEI-L3C_GHRSST-SSTskin-AVHRR_Pathfinder-PFV5.3_NOAA18_G_2010301_day-v02.0-fv01.0.nc',\n",
       " 'test_data/20101025142149-NCEI-L3C_GHRSST-SSTskin-AVHRR_Pathfinder-PFV5.3_NOAA18_G_2010298_day-v02.0-fv01.0.nc',\n",
       " 'test_data/20101026141554-NCEI-L3C_GHRSST-SSTskin-AVHRR_Pathfinder-PFV5.3_NOAA18_G_2010299_day-v02.0-fv01.0.nc',\n",
       " 'test_data/20101022140448-NCEI-L3C_GHRSST-SSTskin-AVHRR_Pathfinder-PFV5.3_NOAA18_G_2010295_day-v02.0-fv01.0.nc',\n",
       " 'test_data/20101021225129-NCEI-L3C_GHRSST-SSTskin-AVHRR_Pathfinder-PFV5.3_NOAA18_G_2010294_day-v02.0-fv01.0.nc',\n",
       " 'test_data/20101019140629-NCEI-L3C_GHRSST-SSTskin-AVHRR_Pathfinder-PFV5.3_NOAA18_G_2010292_day-v02.0-fv01.0.nc']"
      ]
     },
     "execution_count": 3,
     "metadata": {},
     "output_type": "execute_result"
    }
   ],
   "source": [
    "day_files"
   ]
  },
  {
   "cell_type": "code",
   "execution_count": null,
   "metadata": {},
   "outputs": [],
   "source": [
    "# 初始化經緯度數據\n",
    "all_longitudes = []\n",
    "all_latitudes = []\n",
    "\n",
    "# 遍歷每個文件\n",
    "for file in day_files:\n",
    "    if not os.path.exists(file):  # 確保文件存在\n",
    "        print(f\"文件 {file} 不存在，跳過此文件\")\n",
    "        continue\n",
    "    \n",
    "    try:\n",
    "        # 打開 NetCDF 文件\n",
    "        data = xr.open_dataset(file)\n",
    "\n",
    "        # 確認經緯度變量名稱\n",
    "        if 'lon' not in data or 'lat' not in data:\n",
    "            print(f\"文件 {file} 缺少經緯度變量，跳過\")\n",
    "            continue\n",
    "\n",
    "        longitude = data['lon'].values\n",
    "        latitude = data['lat'].values\n",
    "\n",
    "        # 如果經緯度是一維數組，生成匹配網格\n",
    "        if len(longitude.shape) == 1 and len(latitude.shape) == 1:\n",
    "            longitude, latitude = np.meshgrid(longitude, latitude)\n",
    "\n",
    "        # 展平數據\n",
    "        longitude = longitude.flatten()\n",
    "        latitude = latitude.flatten()\n",
    "\n",
    "        # 過濾 NaN 值\n",
    "        mask = ~np.isnan(longitude) & ~np.isnan(latitude)\n",
    "        longitude = longitude[mask]\n",
    "        latitude = latitude[mask]\n",
    "\n",
    "        # 添加到總列表\n",
    "        all_longitudes.append(longitude)\n",
    "        all_latitudes.append(latitude)\n",
    "\n",
    "    except Exception as e:\n",
    "        print(f\"處理文件 {file} 時發生錯誤: {e}\")\n",
    "        continue\n",
    "\n",
    "# 合併所有數據\n",
    "if len(all_longitudes) == 0 or len(all_latitudes) == 0:\n",
    "    print(\"無有效數據，無法繪製軌跡\")\n",
    "else:\n",
    "    all_longitudes = np.concatenate(all_longitudes)\n",
    "    all_latitudes = np.concatenate(all_latitudes)\n",
    "\n",
    "    # 繪製地圖\n",
    "    fig = plt.figure(figsize=(12, 8))\n",
    "    ax = plt.axes(projection=ccrs.PlateCarree())\n",
    "\n",
    "    # 添加地圖特徵\n",
    "    ax.add_feature(cfeature.COASTLINE)\n",
    "    ax.add_feature(cfeature.BORDERS, linestyle=':')\n",
    "    ax.set_global()  # 顯示全球地圖\n",
    "\n",
    "    # 繪製軌跡\n",
    "    ax.scatter(all_longitudes, all_latitudes, s=1, color='blue', transform=ccrs.PlateCarree(), label='Satellite Tracks')\n",
    "\n",
    "    # 添加標題與圖例\n",
    "    plt.title('Satellite Tracks Over Multiple Days')\n",
    "    plt.legend()\n",
    "    plt.show()"
   ]
  }
 ],
 "metadata": {
  "kernelspec": {
   "display_name": "RSS_env",
   "language": "python",
   "name": "python3"
  },
  "language_info": {
   "codemirror_mode": {
    "name": "ipython",
    "version": 3
   },
   "file_extension": ".py",
   "mimetype": "text/x-python",
   "name": "python",
   "nbconvert_exporter": "python",
   "pygments_lexer": "ipython3",
   "version": "3.9.18"
  }
 },
 "nbformat": 4,
 "nbformat_minor": 2
}
