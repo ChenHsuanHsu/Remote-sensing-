{
 "cells": [
  {
   "cell_type": "code",
   "execution_count": 1,
   "metadata": {},
   "outputs": [],
   "source": [
    "import matplotlib as mpl\n",
    "import numpy as np\n",
    "import matplotlib.pyplot as plt\n",
    "import cartopy.crs as ccrs\n",
    "import cartopy.feature as cf\n",
    "import matplotlib.colors as mcolors\n",
    "import sys\n",
    "import os\n",
    "import glob\n",
    "from read_data.gmi_daily_v8 import GMIdaily"
   ]
  },
  {
   "cell_type": "code",
   "execution_count": 2,
   "metadata": {},
   "outputs": [],
   "source": [
    "# 設置日期和文件類型\n",
    "date = \"20170822\"  # 動態設置日期\n",
    "dtype = \"test_data\"  # 文件所在資料夾\n",
    "\n",
    "# 使用 glob 搜索符合條件的文件\n",
    "file_pattern = f\"{dtype}/f35_{date}v8.2.gz\"\n",
    "files = glob.glob(file_pattern)"
   ]
  },
  {
   "cell_type": "code",
   "execution_count": 3,
   "metadata": {},
   "outputs": [],
   "source": [
    "# 使用 GMIdaily 加載文件\n",
    "dataset = GMIdaily(file_pattern)\n",
    "\n",
    "# 提取變數\n",
    "times = dataset.variables['time'][:]  # 获取时间数据，假設為 (時間步, 緯度, 經度)\n",
    "sst = dataset.variables['sst']\n",
    "rain = dataset.variables['rain']\n",
    "wind = dataset.variables['windLF']"
   ]
  }
 ],
 "metadata": {
  "kernelspec": {
   "display_name": "RSS_env",
   "language": "python",
   "name": "python3"
  },
  "language_info": {
   "codemirror_mode": {
    "name": "ipython",
    "version": 3
   },
   "file_extension": ".py",
   "mimetype": "text/x-python",
   "name": "python",
   "nbconvert_exporter": "python",
   "pygments_lexer": "ipython3",
   "version": "3.9.18"
  }
 },
 "nbformat": 4,
 "nbformat_minor": 2
}
