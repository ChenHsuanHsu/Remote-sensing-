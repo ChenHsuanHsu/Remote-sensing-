{
 "cells": [
  {
   "cell_type": "code",
   "execution_count": 3,
   "metadata": {},
   "outputs": [],
   "source": [
    "import numpy as np\n",
    "import xarray as xr\n",
    "import matplotlib.pyplot as plt\n",
    "import matplotlib.cm as cm\n",
    "import matplotlib.colors as mcls\n",
    "import cartopy.crs as ccrs\n",
    "import cartopy.feature as cfeature\n",
    "import glob\n",
    "from pyhdf.SD import SD, SDC\n",
    "import os"
   ]
  },
  {
   "cell_type": "code",
   "execution_count": 6,
   "metadata": {},
   "outputs": [],
   "source": [
    "time = \"20100918\"\n",
    "dtype = 'test_data'"
   ]
  },
  {
   "cell_type": "code",
   "execution_count": 4,
   "metadata": {},
   "outputs": [],
   "source": [
    "# 設置文件夾保存圖像\n",
    "output_folder = \"trmm_images\"\n",
    "os.makedirs(output_folder, exist_ok=True)"
   ]
  },
  {
   "cell_type": "code",
   "execution_count": null,
   "metadata": {},
   "outputs": [],
   "source": [
    "hdf  = SD(f'{dtype}/3B42.{time}.06.7A.HDF', SDC.READ)\n",
    "datasets = hdf.datasets()\n",
    "\n",
    "pr = hdf.select('precipitation')[:]\n",
    "hq = hdf.select('HQprecipitation')[:]\n",
    "ir = hdf.select('IRprecipitation')[:]"
   ]
  },
  {
   "cell_type": "code",
   "execution_count": null,
   "metadata": {},
   "outputs": [],
   "source": [
    "def PLOT_MAP(var, var_name):\n",
    "    fig, ax   = plt.subplots(nrows=1, ncols=1, subplot_kw={'projection': data_proj}, figsize=(5,6))\n",
    "    CS = ax.contourf(lon-lon_cnt, lat, var.T, transform=data_proj, extend='max', cmap=cmap, levels=bounds)\n",
    "    ax.coastlines(linewidth=0.6)\n",
    "    ax.set_extent(extent, crs=data_proj)\n",
    "\n",
    "    gl  = ax.gridlines(linewidth=0.5, color='gray', alpha=0.5, linestyle='--', draw_labels=True)\n",
    "    gl.xlabel_style = {'size': 10}\n",
    "    gl.ylabel_style = {'size': 10}\n",
    "    gl.top_labels   = False\n",
    "    gl.right_labels = False\n",
    "    cbar_ax = fig.add_axes([0.94, 0.32, 0.025, 0.3])   # [left, bottom, width, height]\n",
    "    cbar    = fig.colorbar(CS, cax=cbar_ax, orientation='vertical', extend='max')\n",
    "    cbar.ax.tick_params(labelsize=12)\n",
    "    cbar.ax.set_title('[mm/hr]', fontsize=10)\n",
    "    ax.set_title(f'TRMM 3B42 2010-09-18 {var_name}', fontsize=12)\n",
    "    plt.savefig(figdir+f'TRMM_20100918_{var_name}.png', dpi=300, bbox_inches='tight')\n",
    "    plt.show()\n",
    "    plt.close()\n",
    "\n",
    "dl = 0.25\n",
    "lon = np.arange(-180, 180, dl)+dl/2\n",
    "lat = np.arange(-50, 50, dl)+dl/2\n",
    "\n",
    "lon_cnt   = 180\n",
    "extent    = [80-lon_cnt , 210-lon_cnt, -80, 80]\n",
    "data_proj = ccrs.PlateCarree(central_longitude=lon_cnt)\n",
    "bounds    = np.arange(0, 18.01, 3)\n",
    "cmap      = cm.jet"
   ]
  }
 ],
 "metadata": {
  "kernelspec": {
   "display_name": "RSS_env",
   "language": "python",
   "name": "python3"
  },
  "language_info": {
   "codemirror_mode": {
    "name": "ipython",
    "version": 3
   },
   "file_extension": ".py",
   "mimetype": "text/x-python",
   "name": "python",
   "nbconvert_exporter": "python",
   "pygments_lexer": "ipython3",
   "version": "3.9.18"
  }
 },
 "nbformat": 4,
 "nbformat_minor": 2
}
