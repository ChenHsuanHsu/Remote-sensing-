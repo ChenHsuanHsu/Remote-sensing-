{
 "cells": [
  {
   "cell_type": "code",
   "execution_count": 7,
   "metadata": {},
   "outputs": [],
   "source": [
    "import numpy as np\n",
    "from netCDF4 import Dataset\n",
    "from datetime import datetime, timedelta\n",
    "import os\n",
    "import glob\n"
   ]
  },
  {
   "cell_type": "code",
   "execution_count": 3,
   "metadata": {},
   "outputs": [],
   "source": [
    "# 設置文件夾保存圖像\n",
    "output_folder = \"ASCII_out\"\n",
    "os.makedirs(output_folder, exist_ok=True)"
   ]
  },
  {
   "cell_type": "code",
   "execution_count": 14,
   "metadata": {},
   "outputs": [],
   "source": [
    "# 設定範圍和條件\n",
    "# 將日期定義為變量\n",
    "date = \"2020-02-05\"\n",
    "dtype = \"test_data\"\n",
    "\n",
    "# 定义经纬度范围\n",
    "lon1, lon2 = 120, 130\n",
    "lat1, lat2 = 10, 20"
   ]
  },
  {
   "cell_type": "code",
   "execution_count": 16,
   "metadata": {},
   "outputs": [
    {
     "name": "stdout",
     "output_type": "stream",
     "text": [
      "Extracted date: 2020-02-05 00:00:00\n",
      "File headers written.\n",
      "Data written to files successfully.\n",
      "Ascending data file: ASCII_out/ascending_data_20200205.dat\n",
      "Descending data file: ASCII_out/descending_data_20200205.dat\n"
     ]
    },
    {
     "name": "stderr",
     "output_type": "stream",
     "text": [
      "/var/folders/lx/4bn5cmyn63b1p7gtb6m71jch0000gn/T/ipykernel_97165/2830380820.py:67: FutureWarning: Format strings passed to MaskedConstant are ignored, but in future may error or produce different behavior\n",
      "  f\"{jdaygmt:%Y-%m-%d %H:%M:%S}, {longitude:.3f}, {latitude:.3f}, \"\n",
      "/var/folders/lx/4bn5cmyn63b1p7gtb6m71jch0000gn/T/ipykernel_97165/2830380820.py:76: FutureWarning: Format strings passed to MaskedConstant are ignored, but in future may error or produce different behavior\n",
      "  f\"{jdaygmt:%Y-%m-%d %H:%M:%S}, {longitude:.3f}, {latitude:.3f}, \"\n"
     ]
    }
   ],
   "source": [
    "# 打开 NetCDF 文件\n",
    "# 使用 glob 查找對應檔案\n",
    "file = f\"{dtype}/RSS_AMSR2_ocean_L3_daily_{date}_v08.2.nc\"\n",
    "nc = Dataset(file, mode='r')\n",
    "\n",
    "# 讀取變量\n",
    "time = nc.variables['time'][:]\n",
    "sst = nc.variables['SST'][:]\n",
    "wspdLF = nc.variables['wind_speed_LF'][:]\n",
    "wspdMF = nc.variables['wind_speed_MF'][:]\n",
    "vapor = nc.variables['water_vapor'][:]\n",
    "cloud = nc.variables['cloud_liquid_water'][:]\n",
    "rain = nc.variables['rain_rate'][:]\n",
    "land_mask = nc.variables['land_mask'][:]\n",
    "ice_mask = nc.variables['sea_ice_mask'][:]\n",
    "coast_mask = nc.variables['coast_mask'][:]\n",
    "noobs_mask = nc.variables['noobs_mask'][:]\n",
    "\n",
    "# 提取日期部分\n",
    "parts = file.split('_')\n",
    "for part in parts:\n",
    "    if len(part) == 10:\n",
    "        try:\n",
    "            base_date = datetime.strptime(part, '%Y-%m-%d')\n",
    "            print(f\"Extracted date: {base_date}\")\n",
    "            break\n",
    "        except ValueError:\n",
    "            continue\n",
    "else:\n",
    "    raise ValueError(\"No valid date found in the file name.\")\n",
    "\n",
    "# 定義經緯度範圍\n",
    "lon1, lon2 = 120, 130\n",
    "lat1, lat2 = 10, 20\n",
    "\n",
    "# 經緯度網格\n",
    "latx = 0.25 * (np.arange(1, 721)) - 90.125\n",
    "lonx = 0.25 * (np.arange(1, 1441)) - 0.125\n",
    "lon, lat = np.meshgrid(lonx, latx)\n",
    "\n",
    "# 查找感興趣區域的索引\n",
    "ix = np.where((lonx >= lon1) & (lonx <= lon2))[0]\n",
    "iy = np.where((latx >= lat1) & (latx <= lat2))[0]\n",
    "\n",
    "# 輸出文件名包含日期\n",
    "output_file_ascending = os.path.join(output_folder, f\"ascending_data_{base_date.strftime('%Y%m%d')}.dat\")\n",
    "output_file_descending = os.path.join(output_folder, f\"descending_data_{base_date.strftime('%Y%m%d')}.dat\")\n",
    "\n",
    "# 輸出到文件\n",
    "with open(output_file_ascending, 'w') as fid1, open(output_file_descending, 'w') as fid2:\n",
    "    # 寫入標題\n",
    "    title = \"Time, Longitude (E), Latitude (N), SST, WSPD_LF, WSPD_MF, Vapor, Cloud_Liquid_Water, Rain_Rate\\n\"\n",
    "    fid1.write(title)\n",
    "    fid2.write(title)\n",
    "    print(\"File headers written.\")\n",
    "\n",
    "    # 確保 lon[y] 和 lat[x] 是標量值\n",
    "    for x in ix:\n",
    "        for y in iy:\n",
    "            longitude = lon[y, x]\n",
    "            latitude = lat[y, x]\n",
    "\n",
    "            # 上行數據（ascending）\n",
    "            if time[0, y, x] <= 250:  # 檢查條件\n",
    "                jdaygmt = base_date + timedelta(hours=float(time[0, y, x]))\n",
    "                fid1.write(\n",
    "                    f\"{jdaygmt:%Y-%m-%d %H:%M:%S}, {longitude:.3f}, {latitude:.3f}, \"\n",
    "                    f\"{sst[0, y, x]:.3f}, {wspdLF[0, y, x]:.3f}, {wspdMF[0, y, x]:.3f}, \"\n",
    "                    f\"{vapor[0, y, x]:.3f}, {cloud[0, y, x]:.3f}, {rain[0, y, x]:.3f}\\n\"\n",
    "                )\n",
    "\n",
    "            # 下行數據（descending）\n",
    "            if time[1, y, x] <= 250:  # 檢查條件\n",
    "                jdaygmt = base_date + timedelta(hours=float(time[1, y, x]))\n",
    "                fid2.write(\n",
    "                    f\"{jdaygmt:%Y-%m-%d %H:%M:%S}, {longitude:.3f}, {latitude:.3f}, \"\n",
    "                    f\"{sst[1, y, x]:.3f}, {wspdLF[1, y, x]:.3f}, {wspdMF[1, y, x]:.3f}, \"\n",
    "                    f\"{vapor[1, y, x]:.3f}, {cloud[1, y, x]:.3f}, {rain[1, y, x]:.3f}\\n\"\n",
    "                )\n",
    "    print(\"Data written to files successfully.\")\n",
    "\n",
    "# 檢查輸出文件\n",
    "print(f\"Ascending data file: {output_file_ascending}\")\n",
    "print(f\"Descending data file: {output_file_descending}\")"
   ]
  }
 ],
 "metadata": {
  "kernelspec": {
   "display_name": "RSS_env",
   "language": "python",
   "name": "python3"
  },
  "language_info": {
   "codemirror_mode": {
    "name": "ipython",
    "version": 3
   },
   "file_extension": ".py",
   "mimetype": "text/x-python",
   "name": "python",
   "nbconvert_exporter": "python",
   "pygments_lexer": "ipython3",
   "version": "3.9.18"
  }
 },
 "nbformat": 4,
 "nbformat_minor": 2
}
